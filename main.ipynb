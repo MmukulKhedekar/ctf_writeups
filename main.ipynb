{
 "cells": [
  {
   "cell_type": "code",
   "execution_count": 3,
   "metadata": {},
   "outputs": [
    {
     "name": "stdout",
     "output_type": "stream",
     "text": [
      "((1804 : 5368 : 1),)\n"
     ]
    }
   ],
   "source": [
    "from sage.all import *\n",
    "\n",
    "## y^2 = x^3 + 497x + 1768 (mod 9739)\n",
    "\n",
    "from Crypto.Util.number import *\n",
    "\n",
    "p = 9739\n",
    "assert isPrime(p)\n",
    "\n",
    "a = 497\n",
    "b = 1768\n",
    "\n",
    "E = EllipticCurve(GF(p), [a, b])\n",
    "\n",
    "G = E.gens()\n",
    "\n",
    "print(G)"
   ]
  }
 ],
 "metadata": {
  "kernelspec": {
   "display_name": "SageMath 10.4.beta3",
   "language": "python",
   "name": "sagemath"
  },
  "language_info": {
   "codemirror_mode": {
    "name": "ipython",
    "version": 3
   },
   "file_extension": ".py",
   "mimetype": "text/x-python",
   "name": "python",
   "nbconvert_exporter": "python",
   "pygments_lexer": "ipython3",
   "version": "3.10.12"
  }
 },
 "nbformat": 4,
 "nbformat_minor": 2
}
